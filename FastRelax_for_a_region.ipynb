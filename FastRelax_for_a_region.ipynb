{
 "cells": [
  {
   "cell_type": "code",
   "execution_count": null,
   "metadata": {
    "scrolled": true
   },
   "outputs": [],
   "source": [
    "from rosetta.protocols.rosetta_scripts import *\n",
    "from pyrosetta import *\n",
    "from pyrosetta import PyMOLMover\n",
    "from rosetta.core.pack.task import *\n",
    "init()"
   ]
  },
  {
   "cell_type": "code",
   "execution_count": null,
   "metadata": {},
   "outputs": [],
   "source": [
    "pose = pose_from_pdb(\"truncated_fkb.pdb\")"
   ]
  },
  {
   "cell_type": "code",
   "execution_count": null,
   "metadata": {},
   "outputs": [],
   "source": [
    "working_pose = pose.clone()"
   ]
  },
  {
   "cell_type": "code",
   "execution_count": null,
   "metadata": {
    "scrolled": false
   },
   "outputs": [],
   "source": [
    "scorefxn = create_score_function(\"ref2015_cart\")"
   ]
  },
  {
   "cell_type": "markdown",
   "metadata": {},
   "source": [
    "MoveMap"
   ]
  },
  {
   "cell_type": "code",
   "execution_count": null,
   "metadata": {},
   "outputs": [],
   "source": [
    "# For a specific refion of residues\n",
    "res_action = pyrosetta.rosetta.core.select.residue_selector.NeighborhoodResidueSelector()\n",
    "res_action.set_focus(str(47))\n",
    "res_action.set_distance(12)\n",
    "res_action.set_include_focus_in_subset(True) "
   ]
  },
  {
   "cell_type": "code",
   "execution_count": null,
   "metadata": {},
   "outputs": [],
   "source": [
    "# For a specific array of residues\n",
    "\n",
    "#res_select = pyrosetta.rosetta.core.select.residue_selector.ResidueIndexSelector()\n",
    "#res_select.set_index_range(1,10)"
   ]
  },
  {
   "cell_type": "code",
   "execution_count": null,
   "metadata": {},
   "outputs": [],
   "source": [
    "movemap = pyrosetta.rosetta.core.select.movemap.MoveMapFactory()\n",
    "movemap.all_jumps(False)\n",
    "movemap.all_bb(False)\n",
    "movemap.add_bb_action(pyrosetta.rosetta.core.select.movemap.mm_enable, res_action)\n",
    "movemap.add_chi_action(pyrosetta.rosetta.core.select.movemap.mm_enable, res_action)\n",
    "movemap.set_cartesian(True) "
   ]
  },
  {
   "cell_type": "code",
   "execution_count": null,
   "metadata": {},
   "outputs": [],
   "source": [
    "tf = TaskFactory()\n",
    "tf.push_back(operation.InitializeFromCommandline())\n",
    "tf.push_back(operation.RestrictToRepacking())\n",
    "\n",
    "prevent_repacking_rlt = operation.PreventRepackingRLT()\n",
    "prevent_subset_repacking = operation.OperateOnResidueSubset(prevent_repacking_rlt, res_action, True)\n",
    "tf.push_back(prevent_subset_repacking)\n",
    "\n",
    "packer = pyrosetta.rosetta.protocols.minimization_packing.PackRotamersMover()\n",
    "packer.score_function(scorefxn)\n",
    "packer.task_factory(tf)\n",
    "\n",
    "fastrelax = pyrosetta.rosetta.protocols.relax.FastRelax()\n",
    "fastrelax.set_scorefxn(scorefxn)\n",
    "fastrelax.cartesian(True)\n",
    "fastrelax.set_movemap_factory(movemap)\n",
    "fastrelax.set_task_factory(tf)\n",
    "\n",
    "fastrelax.apply(working_pose) "
   ]
  },
  {
   "cell_type": "code",
   "execution_count": null,
   "metadata": {},
   "outputs": [],
   "source": [
    "working_pose.dump_pdb(\"relaxed_47.pdb\")"
   ]
  }
 ],
 "metadata": {
  "kernelspec": {
   "display_name": "Python 3",
   "language": "python",
   "name": "python3"
  },
  "language_info": {
   "codemirror_mode": {
    "name": "ipython",
    "version": 3
   },
   "file_extension": ".py",
   "mimetype": "text/x-python",
   "name": "python",
   "nbconvert_exporter": "python",
   "pygments_lexer": "ipython3",
   "version": "3.8.5"
  }
 },
 "nbformat": 4,
 "nbformat_minor": 4
}
