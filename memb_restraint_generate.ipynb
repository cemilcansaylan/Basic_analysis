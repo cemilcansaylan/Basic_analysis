{
 "cells": [
  {
   "cell_type": "markdown",
   "metadata": {},
   "source": [
    "https://www.cgl.ucsf.edu/chimera/docs/UsersGuide/tutorials/pdbintro.html"
   ]
  },
  {
   "cell_type": "code",
   "execution_count": 3,
   "metadata": {},
   "outputs": [],
   "source": [
    "import os"
   ]
  },
  {
   "cell_type": "code",
   "execution_count": 4,
   "metadata": {},
   "outputs": [],
   "source": [
    "memb_atoms=[\"C11\", \"C12\", \"C13\", \"C14\", \"C15\", \"N\", \"P\", \"O11\", \"O12\", \"O13\", \"O14\"]\n",
    "backbone=[\"CA\", \"C\", \"N\", \"O\"]"
   ]
  },
  {
   "cell_type": "code",
   "execution_count": 5,
   "metadata": {},
   "outputs": [],
   "source": [
    "WRK=\"./\""
   ]
  },
  {
   "cell_type": "code",
   "execution_count": 6,
   "metadata": {},
   "outputs": [],
   "source": [
    "lines=open(WRK+\"manuel/restraints/ionized.pdb\").readlines()"
   ]
  },
  {
   "cell_type": "code",
   "execution_count": null,
   "metadata": {},
   "outputs": [],
   "source": [
    "idx=1;\n",
    "cnt=1;\n",
    "pr = open(WRK+\"manuel/restraints/prot_posres.ref\", \"a+\")\n",
    "low = open(WRK+\"manuel/restraints/popc_head_lower.ref\", \"a+\")\n",
    "upp = open(WRK+\"manuel/restraints/popc_head_upper.ref\", \"a+\")\n",
    "\n",
    "for i in lines:\n",
    "\n",
    "    prot_res=i\n",
    "    upper=i\n",
    "    lower=i\n",
    "    if i.startswith(\"ATOM\"):\n",
    "        atom=i[0:6]\n",
    "        index=i[6:11]\n",
    "        aname=i[12:16].replace(\" \", \"\")\n",
    "        localid=i[16]\n",
    "        resname=i[17:21]\n",
    "        chain=i[21]\n",
    "        resid=i[22:26]\n",
    "        x=i[30:38]\n",
    "        y=i[38:46]\n",
    "        z=i[46:54]\n",
    "        occupancy=i[54:60]\n",
    "        bfac=i[60:66]\n",
    "        segid=i[72:76]\n",
    "        symbol=i[76:78]\n",
    "        \n",
    "        #prot_res\n",
    "        if not aname.startswith(\"H\") and segid.startswith(\"PRO\"):\n",
    "            prot_res = prot_res.replace(\"0.00\", \"0.50\")\n",
    "            if aname in backbone :\n",
    "                prot_res=prot_res.replace(\"0.50\", \"1.00\")\n",
    "\n",
    "        #lower\n",
    "        if segid.startswith(\"MEMB\"):        \n",
    "            if float(z) < 0 and aname in memb_atoms:\n",
    "                lower = lower.replace(\"0.00\", \"1.00\")\n",
    "\n",
    "        #upper\n",
    "        if segid.startswith(\"MEMB\"):        \n",
    "            if float(z) > 0 and aname in memb_atoms:\n",
    "                upper = upper.replace(\"0.00\", \"1.00\")\n",
    "    \n",
    "    pr.write(prot_res)\n",
    "    low.write(lower)\n",
    "    upp.write(upper)\n",
    "    \n",
    "pr.close()\n",
    "low.close()\n",
    "upp.close()"
   ]
  }
 ],
 "metadata": {
  "kernelspec": {
   "display_name": "Python 3",
   "language": "python",
   "name": "python3"
  },
  "language_info": {
   "codemirror_mode": {
    "name": "ipython",
    "version": 3
   },
   "file_extension": ".py",
   "mimetype": "text/x-python",
   "name": "python",
   "nbconvert_exporter": "python",
   "pygments_lexer": "ipython3",
   "version": "3.8.5"
  }
 },
 "nbformat": 4,
 "nbformat_minor": 4
}
